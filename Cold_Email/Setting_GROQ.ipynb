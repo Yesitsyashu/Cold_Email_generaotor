{
 "cells": [
  {
   "cell_type": "markdown",
   "id": "abed112f-b891-4f07-8e81-e80c6bc274bc",
   "metadata": {},
   "source": [
    "# Key is ready!!!"
   ]
  },
  {
   "cell_type": "code",
   "execution_count": 2,
   "id": "382f6be1-9ff5-4b91-8c14-2ba3cec6fffa",
   "metadata": {},
   "outputs": [
    {
     "name": "stdin",
     "output_type": "stream",
     "text": [
      "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 ········\n"
     ]
    }
   ],
   "source": [
    "import getpass\n",
    "import os\n",
    "\n",
    "if \"GROQ_API_KEY\" not in os.environ:\n",
    "    os.environ[\"GROQ_API_KEY\"] = getpass.getpass(\"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\")"
   ]
  },
  {
   "cell_type": "markdown",
   "id": "841e7ff3-814e-4c41-9cd2-ecf493c5dadd",
   "metadata": {},
   "source": [
    "# Set the model"
   ]
  },
  {
   "cell_type": "code",
   "execution_count": 3,
   "id": "3134b4ee-507e-43aa-bd61-1ec9bc05b036",
   "metadata": {},
   "outputs": [],
   "source": [
    "from langchain_groq import ChatGroq\n",
    "\n",
    "llm = ChatGroq(\n",
    "    model=\"llama3-70b-8192\",\n",
    "    temperature=0,\n",
    "    max_tokens=None,\n",
    "    timeout=None,\n",
    "    max_retries=2,\n",
    "    # other params...\n",
    ")"
   ]
  },
  {
   "cell_type": "markdown",
   "id": "f2b8e81e-8261-4499-a4f5-c5d0939523fd",
   "metadata": {},
   "source": [
    "# my_first response if this project"
   ]
  },
  {
   "cell_type": "code",
   "execution_count": 4,
   "id": "1bd30f5c-0a1e-46b8-a49c-4b05a9149283",
   "metadata": {},
   "outputs": [],
   "source": [
    "response = llm.invoke(\"The First Person to have a name -Yash Bhosale\")"
   ]
  },
  {
   "cell_type": "code",
   "execution_count": 5,
   "id": "46896904-a94f-463f-b224-cedfba8cd795",
   "metadata": {},
   "outputs": [
    {
     "name": "stdout",
     "output_type": "stream",
     "text": [
      "I think there may be some confusion here!\n",
      "\n",
      "While Yash Bhosale may be a real person with a name, he is not the first person to have a name in human history.\n",
      "\n",
      "The origin of names dates back to ancient times, and it's difficult to pinpoint exactly who was the first person to have a name. However, we do know that names have been an essential part of human culture and identity for thousands of years.\n",
      "\n",
      "In ancient civilizations such as Sumeria, Egypt, and Mesopotamia, people had names that reflected their family, occupation, or social status. For example, in ancient Sumeria, which existed around 4500 years ago, people had names like \"Enkidu\" and \"Gilgamesh,\" which were recorded on clay tablets.\n",
      "\n",
      "In ancient Egypt, which flourished around 3100 BCE, people had names like \"Ramses\" and \"Nefertiti,\" which were often associated with their royal or noble status.\n",
      "\n",
      "In many indigenous cultures around the world, people have been given names that reflect their connection to nature, their family, or their community.\n",
      "\n",
      "So, while Yash Bhosale may have a unique and special name, he is certainly not the first person to have a name in human history!\n"
     ]
    }
   ],
   "source": [
    "print(response.content)"
   ]
  },
  {
   "cell_type": "code",
   "execution_count": null,
   "id": "fe3c76cc-6383-4f98-93cb-4607df1f55b0",
   "metadata": {},
   "outputs": [],
   "source": []
  }
 ],
 "metadata": {
  "kernelspec": {
   "display_name": "Python 3 (ipykernel)",
   "language": "python",
   "name": "python3"
  },
  "language_info": {
   "codemirror_mode": {
    "name": "ipython",
    "version": 3
   },
   "file_extension": ".py",
   "mimetype": "text/x-python",
   "name": "python",
   "nbconvert_exporter": "python",
   "pygments_lexer": "ipython3",
   "version": "3.8.20"
  }
 },
 "nbformat": 4,
 "nbformat_minor": 5
}
