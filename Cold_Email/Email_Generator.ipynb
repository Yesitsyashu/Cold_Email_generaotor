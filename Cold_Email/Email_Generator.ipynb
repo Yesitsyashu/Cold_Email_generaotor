{
 "cells": [
  {
   "cell_type": "code",
   "execution_count": 5,
   "id": "2c5306d5-6630-4430-a265-bf901bdf6362",
   "metadata": {},
   "outputs": [],
   "source": [
    "from langchain_groq import ChatGroq"
   ]
  },
  {
   "cell_type": "code",
   "execution_count": 6,
   "id": "f1105fea-9f91-4e35-8226-d0e8c00312eb",
   "metadata": {},
   "outputs": [
    {
     "name": "stdout",
     "output_type": "stream",
     "text": [
      "The Bhosale name!\n",
      "\n",
      "The Bhosale name has a rich legacy in Indian history, particularly in the state of Maharashtra. Here are a few notable aspects of the Bhosale legacy:\n",
      "\n",
      "1. **Maratha Empire**: The Bhosale family was instrumental in establishing the Maratha Empire, which was a powerful Indian empire that existed from the 17th to the 19th century. The empire was founded by Shivaji Bhosale, a legendary warrior and leader who is revered as a hero in Maharashtra.\n",
      "2. **Shivaji Maharaj**: Shivaji Bhosale, also known as Chhatrapati Shivaji Maharaj, is considered one of the greatest warriors and leaders in Indian history. He fought against the Mughal Empire and established a sovereign Maratha state, which later became the Maratha Empire. Shivaji is remembered for his bravery, strategic thinking, and administrative skills.\n",
      "3. **Maratha Confederacy**: After Shivaji's death, the Maratha Empire was divided into several smaller kingdoms, known as the Maratha Confederacy. The Bhosale family continued to play a significant role in the confederacy, with many of its members ruling over various regions, including Kolhapur, Satara, and Nagpur.\n",
      "4. **Kolhapur Kingdom**: The Bhosale family ruled over the Kolhapur Kingdom, which was one of the most prominent kingdoms in the Maratha Confederacy. The kingdom was known for its rich cultural heritage, including its contributions to Marathi literature, music, and art.\n",
      "5. **Satara Kingdom**: The Bhosale family also ruled over the Satara Kingdom, which was another important kingdom in the Maratha Confederacy. The kingdom was known for its strategic location and its role in the Maratha Empire's military campaigns.\n",
      "6. **Nagpur Kingdom**: The Bhosale family ruled over the Nagpur Kingdom, which was a significant kingdom in the Maratha Confederacy. The kingdom was known for its rich cultural heritage, including its contributions to Marathi literature and music.\n",
      "7. **Legacy of bravery and sacrifice**: The Bhosale name is synonymous with bravery, sacrifice, and patriotism. Many members of the Bhosale family have fought against foreign invaders, including the Mughal Empire, the Portuguese, and the British East India Company.\n",
      "8. **Cultural contributions**: The Bhosale family has made significant contributions to Marathi literature, music, and art. Many Bhosale rulers were patrons of the arts, and their courts attracted scholars, poets, and artists from across the region.\n",
      "\n",
      "Overall, the Bhosale name is a symbol of pride, courage, and sacrifice in Indian history. The family's legacy continues to inspire generations of Indians, particularly in Maharashtra, where they are revered as heroes and icons of Indian culture.\n"
     ]
    }
   ],
   "source": [
    "llm = ChatGroq(\n",
    "    temperature = 0,\n",
    "    groq_api_key = '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',\n",
    "    model_name = \"llama3-70b-8192\"\n",
    ")\n",
    "\n",
    "response = llm.invoke(\"the legacy of bhosale name is  ....\")\n",
    "print(response.content)"
   ]
  },
  {
   "cell_type": "code",
   "execution_count": 7,
   "id": "4a8a9d66-5dab-4213-8751-a1ef870c58b6",
   "metadata": {},
   "outputs": [
    {
     "name": "stdout",
     "output_type": "stream",
     "text": [
      "Note: you may need to restart the kernel to use updated packages.\n"
     ]
    }
   ],
   "source": [
    "%pip install -qU langchain_community beautifulsoup4"
   ]
  },
  {
   "cell_type": "code",
   "execution_count": 22,
   "id": "f2b59b9c-42cd-46f5-94a6-829182b1c847",
   "metadata": {},
   "outputs": [],
   "source": [
    "from langchain_community.document_loaders import WebBaseLoader\n",
    "\n",
    "loader = WebBaseLoader(\"https://nvidia.wd5.myworkdayjobs.com/en-US/NVIDIAExternalCareerSite/job/China-Beijing/AI-Developer-Technology-Engineer-Intern---2025_JR1989499-1?workerSubType=0c40f6bd1d8f10adf6dae42e46d44a17&workerSubType=ab40a98049581037a3ada55b087049b7\")"
   ]
  },
  {
   "cell_type": "code",
   "execution_count": 23,
   "id": "ad482f28-3dd0-4941-9fa7-df670aa736fd",
   "metadata": {},
   "outputs": [
    {
     "data": {
      "text/plain": [
       "Document(metadata={'source': 'https://nvidia.wd5.myworkdayjobs.com/en-US/NVIDIAExternalCareerSite/job/China-Beijing/AI-Developer-Technology-Engineer-Intern---2025_JR1989499-1?workerSubType=0c40f6bd1d8f10adf6dae42e46d44a17&workerSubType=ab40a98049581037a3ada55b087049b7', 'title': '', 'description': \"We are now looking for an AI Developer Technology Engineer Intern. Intelligent machines powered by AI computers that can learn, reason and interact with people are no longer science fiction. Today, a self-driving car can meander through a country road at night and find its way. An AI-powered robot can learn motor skills through trial and error. This is truly an extraordinary time — the era of AI has begun. Image recognition and speech recognition — GPU Deep Learning has provided the foundation for machines to learn, perceive, reason and solve problems. The GPU started out as the engine for simulating human creativity, conjuring up the amazing virtual worlds of video games and Hollywood films. Now, NVIDIA's GPU runs Deep Learning algorithms, simulating human intelligence, and acts as the brain of computers, robots and self-driving cars that can perceive and understand the world. Just as human creativity and intelligence are linked, computer graphics and artificial intelligence come together in our architecture. Two modes of the human brain, two modes of the GPU. This may explain why NVIDIA GPUs are used broadly for Deep Learning, and NVIDIA is increasingly known as “the AI computing company.” Come join a team full of world-class computer scientists to work in its Compute Developer Technology team as an AI Developer Technology Engineer. What you will be doing: You will work and develop state of the art techniques in deep learning, graphs, machine learning, and data analytics, and perform in-depth analysis and optimization to ensure the best possible performance on current- and next-generation GPU architectures You will provide the best AI solutions using GPUs working directly with key customers Collaborate closely with the architecture, research, libraries, tools, and system software teams to influence the design of next-generation architectures, software platforms, and programming models What we need to see: Pursuing MS or PhD from a leading University in an engineering or Computer Science related discipline Strong knowledge of C/C++, software design, programming techniques, and AI algorithms Experience with parallel programming, ideally CUDA C/C++ Good communication and organization skills, with a logical approach to problem solving, time management, and task prioritization skills Preferred internship duration: 6+ months NVIDIA is committed to fostering a diverse work environment and proud to be an equal opportunity employer. As we highly value diversity in our current and future employees, we do not discriminate (including in our hiring and promotion practices) on the basis of race, religion, color, national origin, gender, gender expression, sexual orientation, age, marital status, veteran status, disability status or any other characteristic protected by law. #deeplearning NVIDIA is the world leader in accelerated computing. NVIDIA pioneered accelerated computing to tackle challenges no one else can solve. Our work in AI and digital twins is transforming the world's largest industries and profoundly impacting society. Learn more about NVIDIA.\", 'language': 'en-US'}, page_content='\\n\\n\\n\\n\\n\\n\\n\\n\\n\\n\\n\\n\\n\\n\\n\\n\\n\\n\\n\\n\\n\\n')"
      ]
     },
     "execution_count": 23,
     "metadata": {},
     "output_type": "execute_result"
    }
   ],
   "source": [
    "docs = loader.load()\n",
    "\n",
    "docs[0]"
   ]
  },
  {
   "cell_type": "code",
   "execution_count": 24,
   "id": "cda983a0-fc20-4d06-bb60-88805dec8673",
   "metadata": {},
   "outputs": [
    {
     "name": "stdout",
     "output_type": "stream",
     "text": [
      "{'source': 'https://nvidia.wd5.myworkdayjobs.com/en-US/NVIDIAExternalCareerSite/job/China-Beijing/AI-Developer-Technology-Engineer-Intern---2025_JR1989499-1?workerSubType=0c40f6bd1d8f10adf6dae42e46d44a17&workerSubType=ab40a98049581037a3ada55b087049b7', 'title': '', 'description': \"We are now looking for an AI Developer Technology Engineer Intern. Intelligent machines powered by AI computers that can learn, reason and interact with people are no longer science fiction. Today, a self-driving car can meander through a country road at night and find its way. An AI-powered robot can learn motor skills through trial and error. This is truly an extraordinary time — the era of AI has begun. Image recognition and speech recognition — GPU Deep Learning has provided the foundation for machines to learn, perceive, reason and solve problems. The GPU started out as the engine for simulating human creativity, conjuring up the amazing virtual worlds of video games and Hollywood films. Now, NVIDIA's GPU runs Deep Learning algorithms, simulating human intelligence, and acts as the brain of computers, robots and self-driving cars that can perceive and understand the world. Just as human creativity and intelligence are linked, computer graphics and artificial intelligence come together in our architecture. Two modes of the human brain, two modes of the GPU. This may explain why NVIDIA GPUs are used broadly for Deep Learning, and NVIDIA is increasingly known as “the AI computing company.” Come join a team full of world-class computer scientists to work in its Compute Developer Technology team as an AI Developer Technology Engineer. What you will be doing: You will work and develop state of the art techniques in deep learning, graphs, machine learning, and data analytics, and perform in-depth analysis and optimization to ensure the best possible performance on current- and next-generation GPU architectures You will provide the best AI solutions using GPUs working directly with key customers Collaborate closely with the architecture, research, libraries, tools, and system software teams to influence the design of next-generation architectures, software platforms, and programming models What we need to see: Pursuing MS or PhD from a leading University in an engineering or Computer Science related discipline Strong knowledge of C/C++, software design, programming techniques, and AI algorithms Experience with parallel programming, ideally CUDA C/C++ Good communication and organization skills, with a logical approach to problem solving, time management, and task prioritization skills Preferred internship duration: 6+ months NVIDIA is committed to fostering a diverse work environment and proud to be an equal opportunity employer. As we highly value diversity in our current and future employees, we do not discriminate (including in our hiring and promotion practices) on the basis of race, religion, color, national origin, gender, gender expression, sexual orientation, age, marital status, veteran status, disability status or any other characteristic protected by law. #deeplearning NVIDIA is the world leader in accelerated computing. NVIDIA pioneered accelerated computing to tackle challenges no one else can solve. Our work in AI and digital twins is transforming the world's largest industries and profoundly impacting society. Learn more about NVIDIA.\", 'language': 'en-US'}\n"
     ]
    }
   ],
   "source": [
    "print(docs[0].metadata)"
   ]
  },
  {
   "cell_type": "code",
   "execution_count": 27,
   "id": "e00002d3-706e-4e71-b679-3feb9d69186e",
   "metadata": {},
   "outputs": [
    {
     "name": "stdout",
     "output_type": "stream",
     "text": [
      "Here is the extracted job postings in JSON format:\n",
      "\n",
      "[\n",
      "    {\n",
      "        \"role\": \"Software Engineer\",\n",
      "        \"experience\": \"2+ years\",\n",
      "        \"skills\": [\"Python\", \"JavaScript\", \"React\", \"Django\"],\n",
      "        \"description\": \"We are looking for a highly skilled Software Engineer to join our team. The ideal candidate will have experience with Python, JavaScript, and React, and be familiar with Django.\"\n",
      "    },\n",
      "    {\n",
      "        \"role\": \"Data Scientist\",\n",
      "        \"experience\": \"3+ years\",\n",
      "        \"skills\": [\"Python\", \"R\", \"Machine Learning\", \"Data Visualization\"],\n",
      "        \"description\": \"We are seeking a highly motivated Data Scientist to join our team. The ideal candidate will have experience with Python, R, and machine learning, and be skilled in data visualization.\"\n",
      "    },\n",
      "    {\n",
      "        \"role\": \"DevOps Engineer\",\n",
      "        \"experience\": \"4+ years\",\n",
      "        \"skills\": [\"AWS\", \"Docker\", \"Kubernetes\", \"Linux\"],\n",
      "        \"description\": \"We are looking for an experienced DevOps Engineer to join our team. The ideal candidate will have experience with AWS, Docker, and Kubernetes, and be familiar with Linux.\"\n",
      "    },\n",
      "    {\n",
      "        \"role\": \"Product Manager\",\n",
      "        \"experience\": \"5+ years\",\n",
      "        \"skills\": [\"Product Development\", \"Project Management\", \"Communication\"],\n",
      "        \"description\": \"We are seeking a highly experienced Product Manager to join our team. The ideal candidate will have experience with product development, project management, and excellent communication skills.\"\n",
      "    }\n",
      "]\n"
     ]
    }
   ],
   "source": [
    "from langchain_core.prompts import PromptTemplate\n",
    "\n",
    "prompt_extract = PromptTemplate.from_template(\n",
    "    \"\"\"\n",
    "    ### SCRAPPED TEXT FROM WEBSITE:\n",
    "    {page_data}\n",
    "    ### INSTRUCTION:\n",
    "    The Scrapped text is from the career's page of a website.\n",
    "    Your job is to extract the job postings and return them in JSON format contaning the\n",
    "    following keys :'role', ; 'experience' , 'skills', and 'description.\n",
    "    Only return the valid JSON.\n",
    "    ### VALID JSON (NO PREAMBLE):\n",
    "    \"\"\"\n",
    ")\n",
    "chain_extract = prompt_extract | llm\n",
    "res = chain_extract.invoke(input = {'page_data':page_data})\n",
    "print(res.content)"
   ]
  },
  {
   "cell_type": "code",
   "execution_count": null,
   "id": "1935c96e-a667-41ef-9d7c-e9aa8b69f346",
   "metadata": {},
   "outputs": [],
   "source": [
    "# converting it in to str- json"
   ]
  },
  {
   "cell_type": "code",
   "execution_count": 46,
   "id": "02d8a03c-95fb-4879-989b-8e1447c3988e",
   "metadata": {},
   "outputs": [
    {
     "name": "stdout",
     "output_type": "stream",
     "text": [
      "[{'role': 'Software Engineer', 'experience': '2+ years', 'skills': ['Python', 'JavaScript', 'React', 'Django'], 'description': 'We are looking for a highly skilled Software Engineer to join our team. The ideal candidate will have experience with Python, JavaScript, and React, and be familiar with Django.'}, {'role': 'Data Scientist', 'experience': '3+ years', 'skills': ['Python', 'R', 'Machine Learning', 'Data Visualization'], 'description': 'We are seeking a highly motivated Data Scientist to join our team. The ideal candidate will have experience with Python, R, and machine learning, and be skilled in data visualization.'}, {'role': 'DevOps Engineer', 'experience': '4+ years', 'skills': ['AWS', 'Docker', 'Kubernetes', 'Linux'], 'description': 'We are looking for an experienced DevOps Engineer to join our team. The ideal candidate will have experience with AWS, Docker, and Kubernetes, and be familiar with Linux.'}, {'role': 'Product Manager', 'experience': '5+ years', 'skills': ['Product Development', 'Project Management', 'Communication'], 'description': 'We are seeking a highly experienced Product Manager to join our team. The ideal candidate will have experience with product development, project management, and excellent communication skills.'}]\n"
     ]
    }
   ],
   "source": [
    "from langchain_core.output_parsers import JsonOutputParser\n",
    "\n",
    "# Convert bytes to string if needed\n",
    "#response_text = res.content.decode(\"utf-8\")\n",
    "\n",
    "# Remove unwanted prefixes or text\n",
    "if \"Here is the extracted job postings in JSON format:\" in res.content:\n",
    "    response_text = res.content.split(\"Here is the extracted job postings in JSON format:\")[-1].strip()\n",
    "\n",
    "# Parse the cleaned JSON\n",
    "json_parser = JsonOutputParser()\n",
    "json_res = json_parser.parse(response_text)\n",
    "print(json_res)\n"
   ]
  },
  {
   "cell_type": "code",
   "execution_count": 47,
   "id": "11f26fe8-484f-47a9-ac69-16cfca7ccadc",
   "metadata": {},
   "outputs": [
    {
     "ename": "OutputParserException",
     "evalue": "Invalid json output: Here is the extracted job postings in JSON format:\n\n[\n    {\n        \"role\": \"Software Engineer\",\n        \"experience\": \"2+ years\",\n        \"skills\": [\"Python\", \"JavaScript\", \"React\", \"Django\"],\n        \"description\": \"We are looking for a highly skilled Software Engineer to join our team. The ideal candidate will have experience with Python, JavaScript, and React, and be familiar with Django.\"\n    },\n    {\n        \"role\": \"Data Scientist\",\n        \"experience\": \"3+ years\",\n        \"skills\": [\"Python\", \"R\", \"Machine Learning\", \"Data Visualization\"],\n        \"description\": \"We are seeking a highly motivated Data Scientist to join our team. The ideal candidate will have experience with Python, R, and machine learning, and be skilled in data visualization.\"\n    },\n    {\n        \"role\": \"DevOps Engineer\",\n        \"experience\": \"4+ years\",\n        \"skills\": [\"AWS\", \"Docker\", \"Kubernetes\", \"Linux\"],\n        \"description\": \"We are looking for an experienced DevOps Engineer to join our team. The ideal candidate will have experience with AWS, Docker, and Kubernetes, and be familiar with Linux.\"\n    },\n    {\n        \"role\": \"Product Manager\",\n        \"experience\": \"5+ years\",\n        \"skills\": [\"Product Development\", \"Project Management\", \"Communication\"],\n        \"description\": \"We are seeking a highly experienced Product Manager to join our team. The ideal candidate will have experience with product development, project management, and excellent communication skills.\"\n    }\n]",
     "output_type": "error",
     "traceback": [
      "\u001b[1;31m---------------------------------------------------------------------------\u001b[0m",
      "\u001b[1;31mJSONDecodeError\u001b[0m                           Traceback (most recent call last)",
      "File \u001b[1;32m~\\miniconda3\\lib\\site-packages\\langchain_core\\output_parsers\\json.py:84\u001b[0m, in \u001b[0;36mJsonOutputParser.parse_result\u001b[1;34m(self, result, partial)\u001b[0m\n\u001b[0;32m     83\u001b[0m \u001b[38;5;28;01mtry\u001b[39;00m:\n\u001b[1;32m---> 84\u001b[0m     \u001b[38;5;28;01mreturn\u001b[39;00m \u001b[43mparse_json_markdown\u001b[49m\u001b[43m(\u001b[49m\u001b[43mtext\u001b[49m\u001b[43m)\u001b[49m\n\u001b[0;32m     85\u001b[0m \u001b[38;5;28;01mexcept\u001b[39;00m JSONDecodeError \u001b[38;5;28;01mas\u001b[39;00m e:\n",
      "File \u001b[1;32m~\\miniconda3\\lib\\site-packages\\langchain_core\\utils\\json.py:147\u001b[0m, in \u001b[0;36mparse_json_markdown\u001b[1;34m(json_string, parser)\u001b[0m\n\u001b[0;32m    146\u001b[0m         json_str \u001b[38;5;241m=\u001b[39m match\u001b[38;5;241m.\u001b[39mgroup(\u001b[38;5;241m2\u001b[39m)\n\u001b[1;32m--> 147\u001b[0m \u001b[38;5;28;01mreturn\u001b[39;00m \u001b[43m_parse_json\u001b[49m\u001b[43m(\u001b[49m\u001b[43mjson_str\u001b[49m\u001b[43m,\u001b[49m\u001b[43m \u001b[49m\u001b[43mparser\u001b[49m\u001b[38;5;241;43m=\u001b[39;49m\u001b[43mparser\u001b[49m\u001b[43m)\u001b[49m\n",
      "File \u001b[1;32m~\\miniconda3\\lib\\site-packages\\langchain_core\\utils\\json.py:163\u001b[0m, in \u001b[0;36m_parse_json\u001b[1;34m(json_str, parser)\u001b[0m\n\u001b[0;32m    162\u001b[0m \u001b[38;5;66;03m# Parse the JSON string into a Python dictionary\u001b[39;00m\n\u001b[1;32m--> 163\u001b[0m \u001b[38;5;28;01mreturn\u001b[39;00m \u001b[43mparser\u001b[49m\u001b[43m(\u001b[49m\u001b[43mjson_str\u001b[49m\u001b[43m)\u001b[49m\n",
      "File \u001b[1;32m~\\miniconda3\\lib\\site-packages\\langchain_core\\utils\\json.py:118\u001b[0m, in \u001b[0;36mparse_partial_json\u001b[1;34m(s, strict)\u001b[0m\n\u001b[0;32m    115\u001b[0m \u001b[38;5;66;03m# If we got here, we ran out of characters to remove\u001b[39;00m\n\u001b[0;32m    116\u001b[0m \u001b[38;5;66;03m# and still couldn't parse the string as JSON, so return the parse error\u001b[39;00m\n\u001b[0;32m    117\u001b[0m \u001b[38;5;66;03m# for the original string.\u001b[39;00m\n\u001b[1;32m--> 118\u001b[0m \u001b[38;5;28;01mreturn\u001b[39;00m \u001b[43mjson\u001b[49m\u001b[38;5;241;43m.\u001b[39;49m\u001b[43mloads\u001b[49m\u001b[43m(\u001b[49m\u001b[43ms\u001b[49m\u001b[43m,\u001b[49m\u001b[43m \u001b[49m\u001b[43mstrict\u001b[49m\u001b[38;5;241;43m=\u001b[39;49m\u001b[43mstrict\u001b[49m\u001b[43m)\u001b[49m\n",
      "File \u001b[1;32m~\\miniconda3\\lib\\json\\__init__.py:370\u001b[0m, in \u001b[0;36mloads\u001b[1;34m(s, cls, object_hook, parse_float, parse_int, parse_constant, object_pairs_hook, **kw)\u001b[0m\n\u001b[0;32m    369\u001b[0m     kw[\u001b[38;5;124m'\u001b[39m\u001b[38;5;124mparse_constant\u001b[39m\u001b[38;5;124m'\u001b[39m] \u001b[38;5;241m=\u001b[39m parse_constant\n\u001b[1;32m--> 370\u001b[0m \u001b[38;5;28;01mreturn\u001b[39;00m \u001b[38;5;28;43mcls\u001b[39;49m\u001b[43m(\u001b[49m\u001b[38;5;241;43m*\u001b[39;49m\u001b[38;5;241;43m*\u001b[39;49m\u001b[43mkw\u001b[49m\u001b[43m)\u001b[49m\u001b[38;5;241;43m.\u001b[39;49m\u001b[43mdecode\u001b[49m\u001b[43m(\u001b[49m\u001b[43ms\u001b[49m\u001b[43m)\u001b[49m\n",
      "File \u001b[1;32m~\\miniconda3\\lib\\json\\decoder.py:337\u001b[0m, in \u001b[0;36mJSONDecoder.decode\u001b[1;34m(self, s, _w)\u001b[0m\n\u001b[0;32m    333\u001b[0m \u001b[38;5;250m\u001b[39m\u001b[38;5;124;03m\"\"\"Return the Python representation of ``s`` (a ``str`` instance\u001b[39;00m\n\u001b[0;32m    334\u001b[0m \u001b[38;5;124;03mcontaining a JSON document).\u001b[39;00m\n\u001b[0;32m    335\u001b[0m \n\u001b[0;32m    336\u001b[0m \u001b[38;5;124;03m\"\"\"\u001b[39;00m\n\u001b[1;32m--> 337\u001b[0m obj, end \u001b[38;5;241m=\u001b[39m \u001b[38;5;28;43mself\u001b[39;49m\u001b[38;5;241;43m.\u001b[39;49m\u001b[43mraw_decode\u001b[49m\u001b[43m(\u001b[49m\u001b[43ms\u001b[49m\u001b[43m,\u001b[49m\u001b[43m \u001b[49m\u001b[43midx\u001b[49m\u001b[38;5;241;43m=\u001b[39;49m\u001b[43m_w\u001b[49m\u001b[43m(\u001b[49m\u001b[43ms\u001b[49m\u001b[43m,\u001b[49m\u001b[43m \u001b[49m\u001b[38;5;241;43m0\u001b[39;49m\u001b[43m)\u001b[49m\u001b[38;5;241;43m.\u001b[39;49m\u001b[43mend\u001b[49m\u001b[43m(\u001b[49m\u001b[43m)\u001b[49m\u001b[43m)\u001b[49m\n\u001b[0;32m    338\u001b[0m end \u001b[38;5;241m=\u001b[39m _w(s, end)\u001b[38;5;241m.\u001b[39mend()\n",
      "File \u001b[1;32m~\\miniconda3\\lib\\json\\decoder.py:355\u001b[0m, in \u001b[0;36mJSONDecoder.raw_decode\u001b[1;34m(self, s, idx)\u001b[0m\n\u001b[0;32m    354\u001b[0m \u001b[38;5;28;01mexcept\u001b[39;00m \u001b[38;5;167;01mStopIteration\u001b[39;00m \u001b[38;5;28;01mas\u001b[39;00m err:\n\u001b[1;32m--> 355\u001b[0m     \u001b[38;5;28;01mraise\u001b[39;00m JSONDecodeError(\u001b[38;5;124m\"\u001b[39m\u001b[38;5;124mExpecting value\u001b[39m\u001b[38;5;124m\"\u001b[39m, s, err\u001b[38;5;241m.\u001b[39mvalue) \u001b[38;5;28;01mfrom\u001b[39;00m \u001b[38;5;28;01mNone\u001b[39;00m\n\u001b[0;32m    356\u001b[0m \u001b[38;5;28;01mreturn\u001b[39;00m obj, end\n",
      "\u001b[1;31mJSONDecodeError\u001b[0m: Expecting value: line 1 column 1 (char 0)",
      "\nThe above exception was the direct cause of the following exception:\n",
      "\u001b[1;31mOutputParserException\u001b[0m                     Traceback (most recent call last)",
      "Cell \u001b[1;32mIn[47], line 4\u001b[0m\n\u001b[0;32m      1\u001b[0m \u001b[38;5;28;01mfrom\u001b[39;00m \u001b[38;5;21;01mlangchain_core\u001b[39;00m\u001b[38;5;21;01m.\u001b[39;00m\u001b[38;5;21;01moutput_parsers\u001b[39;00m \u001b[38;5;28;01mimport\u001b[39;00m JsonOutputParser\n\u001b[0;32m      3\u001b[0m json_parser \u001b[38;5;241m=\u001b[39m JsonOutputParser()\n\u001b[1;32m----> 4\u001b[0m json_res \u001b[38;5;241m=\u001b[39m \u001b[43mjson_parser\u001b[49m\u001b[38;5;241;43m.\u001b[39;49m\u001b[43mparse\u001b[49m\u001b[43m(\u001b[49m\u001b[43mres\u001b[49m\u001b[38;5;241;43m.\u001b[39;49m\u001b[43mcontent\u001b[49m\u001b[43m)\u001b[49m\n\u001b[0;32m      5\u001b[0m json_res\n",
      "File \u001b[1;32m~\\miniconda3\\lib\\site-packages\\langchain_core\\output_parsers\\json.py:98\u001b[0m, in \u001b[0;36mJsonOutputParser.parse\u001b[1;34m(self, text)\u001b[0m\n\u001b[0;32m     89\u001b[0m \u001b[38;5;28;01mdef\u001b[39;00m \u001b[38;5;21mparse\u001b[39m(\u001b[38;5;28mself\u001b[39m, text: \u001b[38;5;28mstr\u001b[39m) \u001b[38;5;241m-\u001b[39m\u001b[38;5;241m>\u001b[39m Any:\n\u001b[0;32m     90\u001b[0m \u001b[38;5;250m    \u001b[39m\u001b[38;5;124;03m\"\"\"Parse the output of an LLM call to a JSON object.\u001b[39;00m\n\u001b[0;32m     91\u001b[0m \n\u001b[0;32m     92\u001b[0m \u001b[38;5;124;03m    Args:\u001b[39;00m\n\u001b[1;32m   (...)\u001b[0m\n\u001b[0;32m     96\u001b[0m \u001b[38;5;124;03m        The parsed JSON object.\u001b[39;00m\n\u001b[0;32m     97\u001b[0m \u001b[38;5;124;03m    \"\"\"\u001b[39;00m\n\u001b[1;32m---> 98\u001b[0m     \u001b[38;5;28;01mreturn\u001b[39;00m \u001b[38;5;28;43mself\u001b[39;49m\u001b[38;5;241;43m.\u001b[39;49m\u001b[43mparse_result\u001b[49m\u001b[43m(\u001b[49m\u001b[43m[\u001b[49m\u001b[43mGeneration\u001b[49m\u001b[43m(\u001b[49m\u001b[43mtext\u001b[49m\u001b[38;5;241;43m=\u001b[39;49m\u001b[43mtext\u001b[49m\u001b[43m)\u001b[49m\u001b[43m]\u001b[49m\u001b[43m)\u001b[49m\n",
      "File \u001b[1;32m~\\miniconda3\\lib\\site-packages\\langchain_core\\output_parsers\\json.py:87\u001b[0m, in \u001b[0;36mJsonOutputParser.parse_result\u001b[1;34m(self, result, partial)\u001b[0m\n\u001b[0;32m     85\u001b[0m \u001b[38;5;28;01mexcept\u001b[39;00m JSONDecodeError \u001b[38;5;28;01mas\u001b[39;00m e:\n\u001b[0;32m     86\u001b[0m     msg \u001b[38;5;241m=\u001b[39m \u001b[38;5;124mf\u001b[39m\u001b[38;5;124m\"\u001b[39m\u001b[38;5;124mInvalid json output: \u001b[39m\u001b[38;5;132;01m{\u001b[39;00mtext\u001b[38;5;132;01m}\u001b[39;00m\u001b[38;5;124m\"\u001b[39m\n\u001b[1;32m---> 87\u001b[0m     \u001b[38;5;28;01mraise\u001b[39;00m OutputParserException(msg, llm_output\u001b[38;5;241m=\u001b[39mtext) \u001b[38;5;28;01mfrom\u001b[39;00m \u001b[38;5;21;01me\u001b[39;00m\n",
      "\u001b[1;31mOutputParserException\u001b[0m: Invalid json output: Here is the extracted job postings in JSON format:\n\n[\n    {\n        \"role\": \"Software Engineer\",\n        \"experience\": \"2+ years\",\n        \"skills\": [\"Python\", \"JavaScript\", \"React\", \"Django\"],\n        \"description\": \"We are looking for a highly skilled Software Engineer to join our team. The ideal candidate will have experience with Python, JavaScript, and React, and be familiar with Django.\"\n    },\n    {\n        \"role\": \"Data Scientist\",\n        \"experience\": \"3+ years\",\n        \"skills\": [\"Python\", \"R\", \"Machine Learning\", \"Data Visualization\"],\n        \"description\": \"We are seeking a highly motivated Data Scientist to join our team. The ideal candidate will have experience with Python, R, and machine learning, and be skilled in data visualization.\"\n    },\n    {\n        \"role\": \"DevOps Engineer\",\n        \"experience\": \"4+ years\",\n        \"skills\": [\"AWS\", \"Docker\", \"Kubernetes\", \"Linux\"],\n        \"description\": \"We are looking for an experienced DevOps Engineer to join our team. The ideal candidate will have experience with AWS, Docker, and Kubernetes, and be familiar with Linux.\"\n    },\n    {\n        \"role\": \"Product Manager\",\n        \"experience\": \"5+ years\",\n        \"skills\": [\"Product Development\", \"Project Management\", \"Communication\"],\n        \"description\": \"We are seeking a highly experienced Product Manager to join our team. The ideal candidate will have experience with product development, project management, and excellent communication skills.\"\n    }\n]"
     ]
    }
   ],
   "source": [
    "from langchain_core.output_parsers import JsonOutputParser\n",
    "\n",
    "json_parser = JsonOutputParser()\n",
    "json_res = json_parser.parse(res.content)\n",
    "json_res"
   ]
  },
  {
   "cell_type": "code",
   "execution_count": 35,
   "id": "6613ee6a-50af-4e89-95c2-d28ae156ab3c",
   "metadata": {},
   "outputs": [
    {
     "data": {
      "text/html": [
       "<div>\n",
       "<style scoped>\n",
       "    .dataframe tbody tr th:only-of-type {\n",
       "        vertical-align: middle;\n",
       "    }\n",
       "\n",
       "    .dataframe tbody tr th {\n",
       "        vertical-align: top;\n",
       "    }\n",
       "\n",
       "    .dataframe thead th {\n",
       "        text-align: right;\n",
       "    }\n",
       "</style>\n",
       "<table border=\"1\" class=\"dataframe\">\n",
       "  <thead>\n",
       "    <tr style=\"text-align: right;\">\n",
       "      <th></th>\n",
       "      <th>Techstack</th>\n",
       "      <th>Links</th>\n",
       "    </tr>\n",
       "  </thead>\n",
       "  <tbody>\n",
       "    <tr>\n",
       "      <th>0</th>\n",
       "      <td>React, Node.js, MongoDB</td>\n",
       "      <td>https://example.com/react-portfolio</td>\n",
       "    </tr>\n",
       "    <tr>\n",
       "      <th>1</th>\n",
       "      <td>Angular,.NET, SQL Server</td>\n",
       "      <td>https://example.com/angular-portfolio</td>\n",
       "    </tr>\n",
       "    <tr>\n",
       "      <th>2</th>\n",
       "      <td>Vue.js, Ruby on Rails, PostgreSQL</td>\n",
       "      <td>https://example.com/vue-portfolio</td>\n",
       "    </tr>\n",
       "    <tr>\n",
       "      <th>3</th>\n",
       "      <td>Python, Django, MySQL</td>\n",
       "      <td>https://example.com/python-portfolio</td>\n",
       "    </tr>\n",
       "    <tr>\n",
       "      <th>4</th>\n",
       "      <td>Java, Spring Boot, Oracle</td>\n",
       "      <td>https://example.com/java-portfolio</td>\n",
       "    </tr>\n",
       "    <tr>\n",
       "      <th>5</th>\n",
       "      <td>Flutter, Firebase, GraphQL</td>\n",
       "      <td>https://example.com/flutter-portfolio</td>\n",
       "    </tr>\n",
       "    <tr>\n",
       "      <th>6</th>\n",
       "      <td>WordPress, PHP, MySQL</td>\n",
       "      <td>https://example.com/wordpress-portfolio</td>\n",
       "    </tr>\n",
       "    <tr>\n",
       "      <th>7</th>\n",
       "      <td>Magento, PHP, MySQL</td>\n",
       "      <td>https://example.com/magento-portfolio</td>\n",
       "    </tr>\n",
       "    <tr>\n",
       "      <th>8</th>\n",
       "      <td>React Native, Node.js, MongoDB</td>\n",
       "      <td>https://example.com/react-native-portfolio</td>\n",
       "    </tr>\n",
       "    <tr>\n",
       "      <th>9</th>\n",
       "      <td>iOS, Swift, Core Data</td>\n",
       "      <td>https://example.com/ios-portfolio</td>\n",
       "    </tr>\n",
       "    <tr>\n",
       "      <th>10</th>\n",
       "      <td>Android, Java, Room Persistence</td>\n",
       "      <td>https://example.com/android-portfolio</td>\n",
       "    </tr>\n",
       "    <tr>\n",
       "      <th>11</th>\n",
       "      <td>Kotlin, Android, Firebase</td>\n",
       "      <td>https://example.com/kotlin-android-portfolio</td>\n",
       "    </tr>\n",
       "    <tr>\n",
       "      <th>12</th>\n",
       "      <td>Android TV, Kotlin, Android NDK</td>\n",
       "      <td>https://example.com/android-tv-portfolio</td>\n",
       "    </tr>\n",
       "    <tr>\n",
       "      <th>13</th>\n",
       "      <td>iOS, Swift, ARKit</td>\n",
       "      <td>https://example.com/ios-ar-portfolio</td>\n",
       "    </tr>\n",
       "    <tr>\n",
       "      <th>14</th>\n",
       "      <td>Cross-platform, Xamarin, Azure</td>\n",
       "      <td>https://example.com/xamarin-portfolio</td>\n",
       "    </tr>\n",
       "    <tr>\n",
       "      <th>15</th>\n",
       "      <td>Backend, Kotlin, Spring Boot</td>\n",
       "      <td>https://example.com/kotlin-backend-portfolio</td>\n",
       "    </tr>\n",
       "    <tr>\n",
       "      <th>16</th>\n",
       "      <td>Frontend, TypeScript, Angular</td>\n",
       "      <td>https://example.com/typescript-frontend-portfolio</td>\n",
       "    </tr>\n",
       "    <tr>\n",
       "      <th>17</th>\n",
       "      <td>Full-stack, JavaScript, Express.js</td>\n",
       "      <td>https://example.com/full-stack-js-portfolio</td>\n",
       "    </tr>\n",
       "    <tr>\n",
       "      <th>18</th>\n",
       "      <td>Machine Learning, Python, TensorFlow</td>\n",
       "      <td>https://example.com/ml-python-portfolio</td>\n",
       "    </tr>\n",
       "    <tr>\n",
       "      <th>19</th>\n",
       "      <td>DevOps, Jenkins, Docker</td>\n",
       "      <td>https://example.com/devops-portfolio</td>\n",
       "    </tr>\n",
       "  </tbody>\n",
       "</table>\n",
       "</div>"
      ],
      "text/plain": [
       "                               Techstack  \\\n",
       "0                React, Node.js, MongoDB   \n",
       "1               Angular,.NET, SQL Server   \n",
       "2      Vue.js, Ruby on Rails, PostgreSQL   \n",
       "3                  Python, Django, MySQL   \n",
       "4              Java, Spring Boot, Oracle   \n",
       "5             Flutter, Firebase, GraphQL   \n",
       "6                  WordPress, PHP, MySQL   \n",
       "7                    Magento, PHP, MySQL   \n",
       "8         React Native, Node.js, MongoDB   \n",
       "9                  iOS, Swift, Core Data   \n",
       "10       Android, Java, Room Persistence   \n",
       "11             Kotlin, Android, Firebase   \n",
       "12       Android TV, Kotlin, Android NDK   \n",
       "13                     iOS, Swift, ARKit   \n",
       "14        Cross-platform, Xamarin, Azure   \n",
       "15          Backend, Kotlin, Spring Boot   \n",
       "16         Frontend, TypeScript, Angular   \n",
       "17    Full-stack, JavaScript, Express.js   \n",
       "18  Machine Learning, Python, TensorFlow   \n",
       "19               DevOps, Jenkins, Docker   \n",
       "\n",
       "                                                Links  \n",
       "0                 https://example.com/react-portfolio  \n",
       "1               https://example.com/angular-portfolio  \n",
       "2                   https://example.com/vue-portfolio  \n",
       "3                https://example.com/python-portfolio  \n",
       "4                  https://example.com/java-portfolio  \n",
       "5               https://example.com/flutter-portfolio  \n",
       "6             https://example.com/wordpress-portfolio  \n",
       "7               https://example.com/magento-portfolio  \n",
       "8          https://example.com/react-native-portfolio  \n",
       "9                   https://example.com/ios-portfolio  \n",
       "10              https://example.com/android-portfolio  \n",
       "11       https://example.com/kotlin-android-portfolio  \n",
       "12           https://example.com/android-tv-portfolio  \n",
       "13               https://example.com/ios-ar-portfolio  \n",
       "14              https://example.com/xamarin-portfolio  \n",
       "15       https://example.com/kotlin-backend-portfolio  \n",
       "16  https://example.com/typescript-frontend-portfolio  \n",
       "17        https://example.com/full-stack-js-portfolio  \n",
       "18            https://example.com/ml-python-portfolio  \n",
       "19               https://example.com/devops-portfolio  "
      ]
     },
     "execution_count": 35,
     "metadata": {},
     "output_type": "execute_result"
    }
   ],
   "source": [
    "import pandas as pd\n",
    "\n",
    "df = pd.read_csv('E:\\Cold_Email\\my_portfolio.csv')\n",
    "df"
   ]
  },
  {
   "cell_type": "code",
   "execution_count": 39,
   "id": "fcae60fc-83a3-415a-956a-617cf2598848",
   "metadata": {},
   "outputs": [],
   "source": [
    "import chromadb\n",
    "import uuid \n",
    "\n",
    "client = chromadb.PersistentClient('vectorstore')\n",
    "collection = client.get_or_create_collection(name = \"portfolio\")\n",
    "\n",
    "if not collection.count():\n",
    "    for _, row in df.iterrows():\n",
    "        collection.add(documents=row[\"Techstack\"],\n",
    "                       metadatas={\"links\":row[\"Links\"]},\n",
    "                       ids=[str(uuid.uuid4())])"
   ]
  },
  {
   "cell_type": "code",
   "execution_count": 51,
   "id": "137f4954-28fc-443e-8152-6a07b72e711b",
   "metadata": {},
   "outputs": [
    {
     "data": {
      "text/plain": [
       "['Python', 'JavaScript', 'React', 'Django']"
      ]
     },
     "execution_count": 51,
     "metadata": {},
     "output_type": "execute_result"
    }
   ],
   "source": [
    "job = json_res\n",
    "job[0]['skills']"
   ]
  },
  {
   "cell_type": "code",
   "execution_count": 52,
   "id": "6d02cdfd-848f-440a-a496-18120a991f42",
   "metadata": {},
   "outputs": [
    {
     "data": {
      "text/plain": [
       "[[{'links': 'https://example.com/ml-python-portfolio'},\n",
       "  {'links': 'https://example.com/python-portfolio'}],\n",
       " [{'links': 'https://example.com/full-stack-js-portfolio'},\n",
       "  {'links': 'https://example.com/typescript-frontend-portfolio'}],\n",
       " [{'links': 'https://example.com/react-portfolio'},\n",
       "  {'links': 'https://example.com/react-native-portfolio'}],\n",
       " [{'links': 'https://example.com/python-portfolio'},\n",
       "  {'links': 'https://example.com/ml-python-portfolio'}]]"
      ]
     },
     "execution_count": 52,
     "metadata": {},
     "output_type": "execute_result"
    }
   ],
   "source": [
    "\n",
    "links = collection.query(query_texts=job[0]['skills'], n_results=2).get('metadatas', [])\n",
    "links"
   ]
  },
  {
   "cell_type": "code",
   "execution_count": 53,
   "id": "5c2b212f-003c-4ddd-9ff6-4a7a2c67cd75",
   "metadata": {},
   "outputs": [
    {
     "name": "stdout",
     "output_type": "stream",
     "text": [
      "Here is the cold email:\n",
      "\n",
      "Subject: Expert Solutions for Your Software Development Needs\n",
      "\n",
      "Dear [Client],\n",
      "\n",
      "I came across your job posting for a Software Engineer, Data Scientist, DevOps Engineer, and Product Manager, and I believe AtliQ can be the perfect partner to help you fulfill your requirements. As a business development executive at AtliQ, I'd like to introduce you to our AI & Software Consulting company, dedicated to facilitating the seamless integration of business processes through automated tools.\n",
      "\n",
      "Our team of experts has extensive experience in developing tailored solutions that foster scalability, process optimization, cost reduction, and heightened overall efficiency. We have empowered numerous enterprises with our expertise, and I'm confident we can do the same for you.\n",
      "\n",
      "In particular, our software development capabilities align well with your requirements. We have expertise in Python, JavaScript, React, and Django, making us a strong fit for your Software Engineer role. Our data science team is well-versed in Python, R, machine learning, and data visualization, which aligns with your Data Scientist requirements. Additionally, our DevOps team has experience with AWS, Docker, Kubernetes, and Linux, making us a suitable partner for your DevOps Engineer role. Lastly, our project management expertise and excellent communication skills make us a strong fit for your Product Manager role.\n",
      "\n",
      "To give you a better understanding of our capabilities, I'd like to share some of our relevant portfolio links:\n",
      "\n",
      "* Python and Machine Learning expertise: https://example.com/ml-python-portfolio\n",
      "* Full-stack JavaScript development: https://example.com/full-stack-js-portfolio\n",
      "* React development: https://example.com/react-portfolio\n",
      "\n",
      "I'd be delighted to discuss how AtliQ can help you fulfill your software development needs. Please let me know if you're interested in exploring this further, and I'll be happy to set up a call.\n",
      "\n",
      "Best regards,\n",
      "\n",
      "Mohan\n",
      "Business Development Executive, AtliQ\n"
     ]
    }
   ],
   "source": [
    "prompt_email = PromptTemplate.from_template(\n",
    "        \"\"\"\n",
    "        ### JOB DESCRIPTION:\n",
    "        {job_description}\n",
    "        \n",
    "        ### INSTRUCTION:\n",
    "        You are Mohan, a business development executive at AtliQ. AtliQ is an AI & Software Consulting company dedicated to facilitating\n",
    "        the seamless integration of business processes through automated tools. \n",
    "        Over our experience, we have empowered numerous enterprises with tailored solutions, fostering scalability, \n",
    "        process optimization, cost reduction, and heightened overall efficiency. \n",
    "        Your job is to write a cold email to the client regarding the job mentioned above describing the capability of AtliQ \n",
    "        in fulfilling their needs.\n",
    "        Also add the most relevant ones from the following links to showcase Atliq's portfolio: {link_list}\n",
    "        Remember you are Mohan, BDE at AtliQ. \n",
    "        Do not provide a preamble.\n",
    "        ### EMAIL (NO PREAMBLE):\n",
    "        \n",
    "        \"\"\"\n",
    "        )\n",
    "\n",
    "chain_email = prompt_email | llm\n",
    "res = chain_email.invoke({\"job_description\": str(job), \"link_list\": links})\n",
    "print(res.content)"
   ]
  },
  {
   "cell_type": "code",
   "execution_count": null,
   "id": "26746c76-9c67-4a9a-90ee-79a35a97c2bd",
   "metadata": {},
   "outputs": [],
   "source": []
  }
 ],
 "metadata": {
  "kernelspec": {
   "display_name": "Python 3 (ipykernel)",
   "language": "python",
   "name": "python3"
  },
  "language_info": {
   "codemirror_mode": {
    "name": "ipython",
    "version": 3
   },
   "file_extension": ".py",
   "mimetype": "text/x-python",
   "name": "python",
   "nbconvert_exporter": "python",
   "pygments_lexer": "ipython3",
   "version": "3.8.20"
  }
 },
 "nbformat": 4,
 "nbformat_minor": 5
}
