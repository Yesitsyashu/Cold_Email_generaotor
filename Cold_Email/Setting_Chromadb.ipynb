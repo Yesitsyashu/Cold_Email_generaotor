{
 "cells": [
  {
   "cell_type": "markdown",
   "id": "e4178920-023d-4526-877c-fb1dead07904",
   "metadata": {},
   "source": [
    "# setting the chromadb vectorbase"
   ]
  },
  {
   "cell_type": "code",
   "execution_count": 1,
   "id": "4c9e53ac-863c-4843-9abb-f64ed059ca04",
   "metadata": {},
   "outputs": [],
   "source": [
    "import chromadb\n",
    "\n",
    "client = chromadb.Client()\n",
    "collection = client.create_collection(name=\"my_collection\")"
   ]
  },
  {
   "cell_type": "code",
   "execution_count": 11,
   "id": "cbafb75b-2419-4bf6-84ae-a277c8ada348",
   "metadata": {},
   "outputs": [],
   "source": [
    "collection.add(\n",
    "    documents = [\n",
    "        \"This document is about Pune\",\n",
    "        \"This document is about Mumbai\"\n",
    "    ],\n",
    "    ids  = [ 'id6', 'id7']\n",
    ")"
   ]
  },
  {
   "cell_type": "code",
   "execution_count": 12,
   "id": "40d14c4f-7f0a-47b9-9d81-abf0595c804c",
   "metadata": {},
   "outputs": [
    {
     "data": {
      "text/plain": [
       "{'ids': ['id1', 'id2', 'id3', 'id4', 'id6', 'id7'],\n",
       " 'embeddings': None,\n",
       " 'documents': ['This document is about Generative AI',\n",
       "  'This document is about Artificial Intelligence',\n",
       "  'This document is about Pune',\n",
       "  'This document is about Gujrat',\n",
       "  'This document is about Pune',\n",
       "  'This document is about Mumbai'],\n",
       " 'uris': None,\n",
       " 'data': None,\n",
       " 'metadatas': [None, None, None, None, None, None],\n",
       " 'included': [<IncludeEnum.documents: 'documents'>,\n",
       "  <IncludeEnum.metadatas: 'metadatas'>]}"
      ]
     },
     "execution_count": 12,
     "metadata": {},
     "output_type": "execute_result"
    }
   ],
   "source": [
    "all_docs = collection.get()\n",
    "all_docs"
   ]
  },
  {
   "cell_type": "code",
   "execution_count": 13,
   "id": "5ad4a03d-5f2f-47ba-96d0-70a27d9ace63",
   "metadata": {},
   "outputs": [
    {
     "data": {
      "text/plain": [
       "{'ids': ['id1'],\n",
       " 'embeddings': None,\n",
       " 'documents': ['This document is about Generative AI'],\n",
       " 'uris': None,\n",
       " 'data': None,\n",
       " 'metadatas': [None],\n",
       " 'included': [<IncludeEnum.documents: 'documents'>,\n",
       "  <IncludeEnum.metadatas: 'metadatas'>]}"
      ]
     },
     "execution_count": 13,
     "metadata": {},
     "output_type": "execute_result"
    }
   ],
   "source": [
    "documents = collection.get(ids = [\"id1\"])\n",
    "documents"
   ]
  },
  {
   "cell_type": "code",
   "execution_count": 16,
   "id": "aa6606fc-219f-490a-9acb-2663b1df9c21",
   "metadata": {},
   "outputs": [
    {
     "data": {
      "text/plain": [
       "{'ids': [['id7', 'id4']],\n",
       " 'embeddings': None,\n",
       " 'documents': [['This document is about Mumbai',\n",
       "   'This document is about Gujrat']],\n",
       " 'uris': None,\n",
       " 'data': None,\n",
       " 'metadatas': [[None, None]],\n",
       " 'distances': [[1.1848019361495972, 1.211022138595581]],\n",
       " 'included': [<IncludeEnum.distances: 'distances'>,\n",
       "  <IncludeEnum.documents: 'documents'>,\n",
       "  <IncludeEnum.metadatas: 'metadatas'>]}"
      ]
     },
     "execution_count": 16,
     "metadata": {},
     "output_type": "execute_result"
    }
   ],
   "source": [
    "results = collection.query(\n",
    "    query_texts=['Query is about Ganpati Bappa'],\n",
    "    n_results =2\n",
    ")\n",
    "results"
   ]
  },
  {
   "cell_type": "code",
   "execution_count": 17,
   "id": "cecb2dc1-f540-401b-aa25-5b3b956dda8e",
   "metadata": {},
   "outputs": [
    {
     "data": {
      "text/plain": [
       "{'ids': [],\n",
       " 'embeddings': None,\n",
       " 'documents': [],\n",
       " 'uris': None,\n",
       " 'data': None,\n",
       " 'metadatas': [],\n",
       " 'included': [<IncludeEnum.documents: 'documents'>,\n",
       "  <IncludeEnum.metadatas: 'metadatas'>]}"
      ]
     },
     "execution_count": 17,
     "metadata": {},
     "output_type": "execute_result"
    }
   ],
   "source": [
    "collection.delete(ids = all_docs['ids'])\n",
    "collection.get()"
   ]
  },
  {
   "cell_type": "code",
   "execution_count": null,
   "id": "403fae5a-5856-41f4-a95b-b7a2360918c9",
   "metadata": {},
   "outputs": [],
   "source": []
  }
 ],
 "metadata": {
  "kernelspec": {
   "display_name": "Python 3 (ipykernel)",
   "language": "python",
   "name": "python3"
  },
  "language_info": {
   "codemirror_mode": {
    "name": "ipython",
    "version": 3
   },
   "file_extension": ".py",
   "mimetype": "text/x-python",
   "name": "python",
   "nbconvert_exporter": "python",
   "pygments_lexer": "ipython3",
   "version": "3.8.20"
  }
 },
 "nbformat": 4,
 "nbformat_minor": 5
}
